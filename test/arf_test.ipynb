{
 "cells": [
  {
   "cell_type": "code",
   "execution_count": 1,
   "metadata": {},
   "outputs": [],
   "source": [
    "from __future__ import annotations\n",
    "import numpy as np\n",
    "import math, sys, os\n",
    "from itertools import permutations\n",
    "sys.path.insert(1, os.getcwd()) \n",
    "sys.path.append(\"..\")\n"
   ]
  },
  {
   "cell_type": "code",
   "execution_count": 2,
   "metadata": {},
   "outputs": [],
   "source": [
    "import beepy\n",
    "beepy.beep(sound='ping')"
   ]
  },
  {
   "cell_type": "code",
   "execution_count": 3,
   "metadata": {},
   "outputs": [],
   "source": [
    "import pypdf as pypdf"
   ]
  },
  {
   "cell_type": "code",
   "execution_count": 4,
   "metadata": {},
   "outputs": [],
   "source": [
    "testfilename= \"YellowWallpaper.pdf\""
   ]
  },
  {
   "cell_type": "code",
   "execution_count": 5,
   "metadata": {},
   "outputs": [],
   "source": [
    "rpdf = pypdf.PdfReader(testfilename)"
   ]
  },
  {
   "cell_type": "code",
   "execution_count": 6,
   "metadata": {},
   "outputs": [],
   "source": [
    "pagezero = rpdf.pages[0]\n",
    "pageone = rpdf.pages[1]"
   ]
  },
  {
   "cell_type": "code",
   "execution_count": 7,
   "metadata": {},
   "outputs": [
    {
     "data": {
      "text/plain": [
       "RectangleObject([0, 0, 595.303937, 841.889764])"
      ]
     },
     "execution_count": 7,
     "metadata": {},
     "output_type": "execute_result"
    }
   ],
   "source": [
    "pagezero.mediabox"
   ]
  },
  {
   "cell_type": "code",
   "execution_count": 8,
   "metadata": {},
   "outputs": [
    {
     "data": {
      "text/plain": [
       "RectangleObject([0, 0, 595.303937, 841.889764])"
      ]
     },
     "execution_count": 8,
     "metadata": {},
     "output_type": "execute_result"
    }
   ],
   "source": [
    "pageone.mediabox"
   ]
  },
  {
   "cell_type": "code",
   "execution_count": 9,
   "metadata": {},
   "outputs": [
    {
     "data": {
      "text/plain": [
       "0"
      ]
     },
     "execution_count": 9,
     "metadata": {},
     "output_type": "execute_result"
    }
   ],
   "source": [
    "pageone.mediabox[0]"
   ]
  },
  {
   "cell_type": "code",
   "execution_count": 10,
   "metadata": {},
   "outputs": [
    {
     "data": {
      "text/plain": [
       "0"
      ]
     },
     "execution_count": 10,
     "metadata": {},
     "output_type": "execute_result"
    }
   ],
   "source": [
    "pageone.mediabox[1]"
   ]
  },
  {
   "cell_type": "code",
   "execution_count": 15,
   "metadata": {},
   "outputs": [
    {
     "name": "stdout",
     "output_type": "stream",
     "text": [
      "<map object at 0x754500d53c10>\n"
     ]
    }
   ],
   "source": [
    "from operator import sub\n",
    "C = map(sub, rpdf.pages[5].mediabox[:2], rpdf.pages[5].mediabox[2:])\n",
    "print(C)"
   ]
  },
  {
   "cell_type": "code",
   "execution_count": 24,
   "metadata": {},
   "outputs": [
    {
     "name": "stdout",
     "output_type": "stream",
     "text": [
      "RectangleObject([0, 0, 595.303937, 841.889764])\n",
      "RectangleObject([0, 0, 595.303937, 841.889764])\n",
      "RectangleObject([0, 0, 595.303937, 841.889764])\n",
      "RectangleObject([0, 0, 595.303937, 841.889764])\n",
      "RectangleObject([0, 0, 595.303937, 841.889764])\n",
      "RectangleObject([0, 0, 595.303937, 841.889764])\n",
      "RectangleObject([0, 0, 595.303937, 841.889764])\n",
      "RectangleObject([0, 0, 595.303937, 841.889764])\n",
      "RectangleObject([0, 0, 595.303937, 841.889764])\n",
      "RectangleObject([0, 0, 595.303937, 841.889764])\n",
      "RectangleObject([0, 0, 595.303937, 841.889764])\n",
      "RectangleObject([0, 0, 595.303937, 841.889764])\n",
      "RectangleObject([0, 0, 595.303937, 841.889764])\n"
     ]
    }
   ],
   "source": [
    "for i in range(0,13):\n",
    "    print(rpdf.pages[i].mediabox)"
   ]
  },
  {
   "cell_type": "code",
   "execution_count": 16,
   "metadata": {},
   "outputs": [],
   "source": [
    "#PDF Copy\n",
    "wpdf = pypdf.PdfWriter()\n",
    "for i in range(0, len(rpdf.pages)):\n",
    "    wpdf.add_page( rpdf.pages[i])\n",
    "\n",
    "with open('./testresult/copy.pdf', 'wb') as f:\n",
    "    wpdf.write(f)"
   ]
  },
  {
   "cell_type": "code",
   "execution_count": 17,
   "metadata": {},
   "outputs": [],
   "source": [
    "size=[5,5]\n",
    "trans = pypdf.Transformation().rotate(180).translate(tx=float(size[0]), ty=float(size[1]))"
   ]
  },
  {
   "cell_type": "code",
   "execution_count": 38,
   "metadata": {},
   "outputs": [],
   "source": [
    "#PDF Copy\n",
    "wpdf = pypdf.PdfWriter()\n",
    "for i in range(0, len(rpdf.pages)):\n",
    "    page =  rpdf.pages[i]\n",
    "    page.add_transformation(trans)\n",
    "    wpdf.add_page(page)\n",
    "\n",
    "with open('./testresult/trans.pdf', 'wb') as f:\n",
    "    wpdf.write(f)"
   ]
  },
  {
   "cell_type": "code",
   "execution_count": 39,
   "metadata": {},
   "outputs": [],
   "source": [
    "inputfile = \"YellowWallpaper.pdf\"\n",
    "outputfile = \"HP_\" + inputfile\n",
    "pagerange=\"3-17\"\n",
    "leaves = [4, 1, 4]\n",
    "fold = False\n",
    "riffle = True\n",
    "format = [False, 210,297]\n",
    "imposition =True\n",
    "blank = [\"back\", 1]\n",
    "split = False\n",
    "sigproof = [False, \"#112233\"]\n",
    "trim = True\n",
    "registration = True\n",
    "cmyk = False"
   ]
  },
  {
   "cell_type": "code",
   "execution_count": 40,
   "metadata": {},
   "outputs": [
    {
     "ename": "NameError",
     "evalue": "name 'routines' is not defined",
     "output_type": "error",
     "traceback": [
      "\u001b[0;31m---------------------------------------------------------------------------\u001b[0m",
      "\u001b[0;31mNameError\u001b[0m                                 Traceback (most recent call last)",
      "\u001b[1;32m/home/paul/Code/Booklet/test/arf_test.ipynb Cell 17\u001b[0m line \u001b[0;36m1\n\u001b[0;32m----> <a href='vscode-notebook-cell:/home/paul/Code/Booklet/test/arf_test.ipynb#X22sZmlsZQ%3D%3D?line=0'>1</a>\u001b[0m routines\u001b[39m.\u001b[39mPDFsig\u001b[39m.\u001b[39mgenerate_signature(inputfile\u001b[39m=\u001b[39minputfile,\n\u001b[1;32m      <a href='vscode-notebook-cell:/home/paul/Code/Booklet/test/arf_test.ipynb#X22sZmlsZQ%3D%3D?line=1'>2</a>\u001b[0m                             outputfile\u001b[39m=\u001b[39moutputfile,\n\u001b[1;32m      <a href='vscode-notebook-cell:/home/paul/Code/Booklet/test/arf_test.ipynb#X22sZmlsZQ%3D%3D?line=2'>3</a>\u001b[0m                             pagerange\u001b[39m=\u001b[39mpagerange,\n\u001b[1;32m      <a href='vscode-notebook-cell:/home/paul/Code/Booklet/test/arf_test.ipynb#X22sZmlsZQ%3D%3D?line=3'>4</a>\u001b[0m                             leaves\u001b[39m=\u001b[39mleaves,\n\u001b[1;32m      <a href='vscode-notebook-cell:/home/paul/Code/Booklet/test/arf_test.ipynb#X22sZmlsZQ%3D%3D?line=4'>5</a>\u001b[0m                             fold\u001b[39m=\u001b[39mfold,\n\u001b[1;32m      <a href='vscode-notebook-cell:/home/paul/Code/Booklet/test/arf_test.ipynb#X22sZmlsZQ%3D%3D?line=5'>6</a>\u001b[0m                             riffle\u001b[39m=\u001b[39mriffle,\n\u001b[1;32m      <a href='vscode-notebook-cell:/home/paul/Code/Booklet/test/arf_test.ipynb#X22sZmlsZQ%3D%3D?line=6'>7</a>\u001b[0m                             \u001b[39mformat\u001b[39m\u001b[39m=\u001b[39m \u001b[39mformat\u001b[39m,\n\u001b[1;32m      <a href='vscode-notebook-cell:/home/paul/Code/Booklet/test/arf_test.ipynb#X22sZmlsZQ%3D%3D?line=7'>8</a>\u001b[0m                             imposition\u001b[39m=\u001b[39mimposition,\n\u001b[1;32m      <a href='vscode-notebook-cell:/home/paul/Code/Booklet/test/arf_test.ipynb#X22sZmlsZQ%3D%3D?line=8'>9</a>\u001b[0m                             blank\u001b[39m=\u001b[39mblank,\n\u001b[1;32m     <a href='vscode-notebook-cell:/home/paul/Code/Booklet/test/arf_test.ipynb#X22sZmlsZQ%3D%3D?line=9'>10</a>\u001b[0m                             split\u001b[39m=\u001b[39msplit,\n\u001b[1;32m     <a href='vscode-notebook-cell:/home/paul/Code/Booklet/test/arf_test.ipynb#X22sZmlsZQ%3D%3D?line=10'>11</a>\u001b[0m                             sigproof\u001b[39m=\u001b[39msigproof, \u001b[39m#Printing marks\u001b[39;00m\n\u001b[1;32m     <a href='vscode-notebook-cell:/home/paul/Code/Booklet/test/arf_test.ipynb#X22sZmlsZQ%3D%3D?line=11'>12</a>\u001b[0m                             trim\u001b[39m=\u001b[39mtrim,\n\u001b[1;32m     <a href='vscode-notebook-cell:/home/paul/Code/Booklet/test/arf_test.ipynb#X22sZmlsZQ%3D%3D?line=12'>13</a>\u001b[0m                             registration\u001b[39m=\u001b[39mregistration,\n\u001b[1;32m     <a href='vscode-notebook-cell:/home/paul/Code/Booklet/test/arf_test.ipynb#X22sZmlsZQ%3D%3D?line=13'>14</a>\u001b[0m                             cmyk\u001b[39m=\u001b[39mcmyk\n\u001b[1;32m     <a href='vscode-notebook-cell:/home/paul/Code/Booklet/test/arf_test.ipynb#X22sZmlsZQ%3D%3D?line=14'>15</a>\u001b[0m                             )\n",
      "\u001b[0;31mNameError\u001b[0m: name 'routines' is not defined"
     ]
    }
   ],
   "source": [
    "routines.PDFsig.generate_signature(inputfile=inputfile,\n",
    "                            outputfile=outputfile,\n",
    "                            pagerange=pagerange,\n",
    "                            leaves=leaves,\n",
    "                            fold=fold,\n",
    "                            riffle=riffle,\n",
    "                            format= format,\n",
    "                            imposition=imposition,\n",
    "                            blank=blank,\n",
    "                            split=split,\n",
    "                            sigproof=sigproof, #Printing marks\n",
    "                            trim=trim,\n",
    "                            registration=registration,\n",
    "                            cmyk=cmyk\n",
    "                            )"
   ]
  },
  {
   "cell_type": "code",
   "execution_count": 41,
   "metadata": {},
   "outputs": [],
   "source": [
    "from tkinter.colorchooser import askcolor\n"
   ]
  },
  {
   "cell_type": "code",
   "execution_count": 42,
   "metadata": {},
   "outputs": [],
   "source": [
    "def rgb_to_hex(r, g, b):\n",
    "    rcode = str(hex(r)).split('x')[1]\n",
    "    gcode = str(hex(g)).split('x')[1]\n",
    "    bcode = str(hex(b)).split('x')[1]\n",
    "\n",
    "    if len(rcode) == 1:\n",
    "        rcode = '0'+rcode\n",
    "    if len(gcode) == 1:\n",
    "        gcode = '0'+gcode\n",
    "    if len(bcode) == 1:\n",
    "        bcode = '0'+bcode\n",
    "    return '#'+  rcode + gcode + bcode"
   ]
  },
  {
   "cell_type": "code",
   "execution_count": 43,
   "metadata": {},
   "outputs": [
    {
     "data": {
      "text/plain": [
       "1"
      ]
     },
     "execution_count": 43,
     "metadata": {},
     "output_type": "execute_result"
    }
   ],
   "source": [
    "len(str(hex(0)).split('x')[1])"
   ]
  },
  {
   "cell_type": "code",
   "execution_count": 44,
   "metadata": {},
   "outputs": [
    {
     "data": {
      "text/plain": [
       "'#8080ff'"
      ]
     },
     "execution_count": 44,
     "metadata": {},
     "output_type": "execute_result"
    }
   ],
   "source": [
    "rgb_to_hex(128, 128, 255)"
   ]
  },
  {
   "cell_type": "code",
   "execution_count": 45,
   "metadata": {},
   "outputs": [],
   "source": [
    "from math import log2\n",
    "def split_list(li: list, n: int, mode=\"l\") -> list:\n",
    "    \"\"\"\n",
    "    :param li: list, list to be splited.\n",
    "    :param n: int, The length of sublist. It must be a divider of the length of :param:`li` list.\n",
    "    :param mode: str, The mode of split, `l`: length of sublist, `n`: number of sublist\n",
    "    \"\"\"\n",
    "    if mode != \"l\" and mode != \"n\":\n",
    "        raise ValueError(\"The 'mode' parameter must be 'l' or 'n', current = {mode}\")\n",
    "\n",
    "    num = n\n",
    "    l_li = len(li)\n",
    "    if mode == \"n\":\n",
    "        if l_li % num != 0:\n",
    "            raise ValueError(\n",
    "                \"The length of the given list and the sublist length must have a divider relationship.\"\n",
    "            )\n",
    "        num = int(l_li / num)\n",
    "        mode = \"l\"\n",
    "\n",
    "    if mode == \"l\":\n",
    "        if num <= 1:\n",
    "            return li\n",
    "        if len(li) % num != 0:\n",
    "            raise ValueError(\n",
    "                f\"The length of sublist, {num}, must be a divider of original list, {len(li)}. \"\n",
    "            )\n",
    "\n",
    "        rlist = []\n",
    "        for i in range(0, int(l_li / num)):\n",
    "            ni = num * i\n",
    "            rlist.append([li[ni : ni + num]][0])\n",
    "\n",
    "    return rlist\n",
    "\n",
    "\n",
    "def transpose(matrix: list) -> list:\n",
    "    row_length = len(matrix)\n",
    "    column_length = len(matrix[0])\n",
    "\n",
    "    t = list()\n",
    "    for i in range(0, column_length):\n",
    "        t.append([])\n",
    "\n",
    "    for i in range(0, column_length):\n",
    "        for j in range(0, row_length):\n",
    "            t[i].append(matrix[j][i])\n",
    "            \n",
    "    return t\n",
    "\n",
    "\n",
    "def flip(matrix):  # axis=0\n",
    "    size = len(matrix)\n",
    "\n",
    "    f = list()\n",
    "    for i in range(0, size):\n",
    "        f.append(matrix[size - i - 1])\n",
    "\n",
    "    return f\n",
    "\n",
    "\n",
    "def concatenate(lists):\n",
    "    length = len(lists)\n",
    "\n",
    "    rlist = list()\n",
    "    for i in range(0, length):\n",
    "        for element in lists[i]:\n",
    "            rlist.append(element)\n",
    "\n",
    "    return rlist\n",
    "\n",
    "\n",
    "def reshape(list_1d, shape):\n",
    "    size_1d = len(list_1d)\n",
    "    if size_1d != shape[0] * shape[1]:\n",
    "        raise ValueError(\"The list length and shape are not matched each other.\")\n",
    "    return split_list(list_1d, shape[0], mode=\"n\")\n",
    "\n",
    "def sig_layout(n: int) -> tuple:\n",
    "    if type(n) != int:\n",
    "        raise ValueError(\"n is not an integer\")\n",
    "    if n == 1:\n",
    "        return (1, 1)\n",
    "    elif n < 4 or n % 4 != 0:\n",
    "        raise ValueError(f\"n:{n} must be a positive integer that multiple of 4.\")\n",
    "    if n % 3 == 0:\n",
    "        i = log2(n) - log2(3) - 1\n",
    "        return (3, int(2**i))\n",
    "    else:\n",
    "        i = int(log2(n / 4))\n",
    "        if i % 2:\n",
    "            k = kp = int((i + 1) / 2)\n",
    "        else:\n",
    "            k = int(i / 2)\n",
    "            kp = k + 1\n",
    "        return (int(2**k), int(2**kp))"
   ]
  },
  {
   "cell_type": "code",
   "execution_count": 73,
   "metadata": {},
   "outputs": [],
   "source": [
    "def __fold_matrix_update(n: int, matrix: list) -> list:\n",
    "    # n_1 = np.flip(matrix.T, axis=0)\n",
    "    n_1 = flip(transpose(matrix))\n",
    "    len_n = len(n_1[0])\n",
    "    l = int(len_n / 2)\n",
    "    rows = []\n",
    "    for row in n_1:\n",
    "        # r_split = np.split(row,l)\n",
    "        r_split = split_list(row, l, mode=\"n\")\n",
    "        row_appended = []\n",
    "        for tu in r_split:\n",
    "            # tem = np.array([n-tu[0] +1,n-tu[1] +1])\n",
    "            # row_appended.append(np.insert(tem, 1, tu))\n",
    "            tem = [n - tu[0] + 1, n - tu[1] + 1]\n",
    "            tem.insert(1, tu[1])\n",
    "            tem.insert(1, tu[0])\n",
    "            row_appended.append(tem)\n",
    "        # rows.append(np.concatenate(row_appended, axis=None))\n",
    "        rows.append(concatenate(row_appended))\n",
    "    # return np.stack(rows)\n",
    "    return rows"
   ]
  },
  {
   "cell_type": "code",
   "execution_count": 46,
   "metadata": {},
   "outputs": [
    {
     "data": {
      "text/plain": [
       "(2, 2)"
      ]
     },
     "execution_count": 46,
     "metadata": {},
     "output_type": "execute_result"
    }
   ],
   "source": [
    "sig_layout(8)"
   ]
  },
  {
   "cell_type": "code",
   "execution_count": 47,
   "metadata": {},
   "outputs": [],
   "source": [
    "matrix16_0 = [[16, 1, 4, 13], [9, 8, 5, 12]]\n",
    "matrix16_1 = [[10, 7, 6, 11], [15, 2, 3, 14]]"
   ]
  },
  {
   "cell_type": "code",
   "execution_count": 48,
   "metadata": {},
   "outputs": [],
   "source": [
    "matrix8_0 = [[8, 1], [5, 4]] \n",
    "matrix8_1 = [[2, 7], [3, 6]]"
   ]
  },
  {
   "cell_type": "code",
   "execution_count": 49,
   "metadata": {},
   "outputs": [
    {
     "data": {
      "text/plain": [
       "[[16, 1, 4, 13, 9, 8, 5, 12], [10, 7, 6, 11, 15, 2, 3, 14]]"
      ]
     },
     "execution_count": 49,
     "metadata": {},
     "output_type": "execute_result"
    }
   ],
   "source": [
    "[[16, 1, 4, 13, 9, 8, 5, 12], [10, 7, 6, 11, 15, 2, 3, 14]]"
   ]
  },
  {
   "cell_type": "code",
   "execution_count": 50,
   "metadata": {},
   "outputs": [
    {
     "ename": "NameError",
     "evalue": "name '__fold_matrix_update' is not defined",
     "output_type": "error",
     "traceback": [
      "\u001b[0;31m---------------------------------------------------------------------------\u001b[0m",
      "\u001b[0;31mNameError\u001b[0m                                 Traceback (most recent call last)",
      "\u001b[1;32m/home/paul/Code/Booklet/test/arf_test.ipynb Cell 28\u001b[0m line \u001b[0;36m1\n\u001b[0;32m----> <a href='vscode-notebook-cell:/home/paul/Code/Booklet/test/arf_test.ipynb#X36sZmlsZQ%3D%3D?line=0'>1</a>\u001b[0m __fold_matrix_update(\u001b[39m32\u001b[39m,__fold_matrix_update(\u001b[39m16\u001b[39m, matrix8_0))\n",
      "\u001b[0;31mNameError\u001b[0m: name '__fold_matrix_update' is not defined"
     ]
    }
   ],
   "source": [
    "__fold_matrix_update(32,__fold_matrix_update(16, matrix8_0))"
   ]
  },
  {
   "cell_type": "code",
   "execution_count": 83,
   "metadata": {},
   "outputs": [
    {
     "data": {
      "text/plain": [
       "[20, 13, 12, 21, 29, 4, 5, 28, 32, 1, 8, 25, 17, 16, 9, 24]"
      ]
     },
     "execution_count": 83,
     "metadata": {},
     "output_type": "execute_result"
    }
   ],
   "source": [
    "concatenate(__fold_matrix_update(32, matrix16_0))"
   ]
  },
  {
   "cell_type": "code",
   "execution_count": 84,
   "metadata": {},
   "outputs": [
    {
     "data": {
      "text/plain": [
       "[22, 11, 14, 19, 27, 6, 3, 30, 26, 7, 2, 31, 23, 10, 15, 18]"
      ]
     },
     "execution_count": 84,
     "metadata": {},
     "output_type": "execute_result"
    }
   ],
   "source": [
    "concatenate(__fold_matrix_update(32, matrix16_1))"
   ]
  },
  {
   "cell_type": "code",
   "execution_count": null,
   "metadata": {},
   "outputs": [],
   "source": []
  }
 ],
 "metadata": {
  "kernelspec": {
   "display_name": "Python 3.10.4 ('booklet')",
   "language": "python",
   "name": "python3"
  },
  "language_info": {
   "codemirror_mode": {
    "name": "ipython",
    "version": 3
   },
   "file_extension": ".py",
   "mimetype": "text/x-python",
   "name": "python",
   "nbconvert_exporter": "python",
   "pygments_lexer": "ipython3",
   "version": "3.10.12"
  },
  "orig_nbformat": 4,
  "vscode": {
   "interpreter": {
    "hash": "7a0064eb676495ab0294ef1746325145c23123edd6ffac423098a0856c3eb930"
   }
  }
 },
 "nbformat": 4,
 "nbformat_minor": 2
}
